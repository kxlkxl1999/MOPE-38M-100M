{
 "cells": [
  {
   "cell_type": "code",
   "execution_count": 1,
   "id": "61cf256e",
   "metadata": {},
   "outputs": [],
   "source": [
    "import os\n",
    "os.chdir(\"/home/haok/MoE-Research\")\n",
    "\n",
    "import pickle\n",
    "from pathlib import Path\n",
    "from typing import List\n",
    "import numpy as np\n",
    "import matplotlib.pyplot as plt\n",
    "from matplotlib.colors import LinearSegmentedColormap\n",
    "\n",
    "base = Path(\"results/expert-coactivation\")\n",
    "assert base.is_dir()\n"
   ]
  },
  {
   "cell_type": "code",
   "execution_count": 41,
   "id": "84d16bfc",
   "metadata": {},
   "outputs": [],
   "source": [
    "def plot(glob: List[Path], nrows: int, ncols: int, k: int, save: Path):\n",
    "    fig, axs = plt.subplots(nrows, ncols, figsize=(24, 18))\n",
    "    cmap = LinearSegmentedColormap.from_list(\"white_to_tartan\", [\"white\", \"#043673\"])\n",
    "    axs = axs.flatten()\n",
    "\n",
    "    data_records = []\n",
    "    global_min, global_max = float('inf'), float('-inf')\n",
    "    for file in glob:\n",
    "        with file.open(\"rb\") as f:\n",
    "            record = np.array(pickle.load(f))\n",
    "            expert_max = record.max(axis=1)\n",
    "            top_expert_indices = np.argsort(expert_max)[-k:][::-1]\n",
    "            filtered_record = record[top_expert_indices][:, top_expert_indices]\n",
    "            data_records.append((file, filtered_record, top_expert_indices))\n",
    "            global_min = min(global_min, filtered_record.min())\n",
    "            global_max = max(global_max, filtered_record.max())\n",
    "\n",
    "    for ax, (file, filtered_record, top_expert_indices) in zip(axs, data_records):\n",
    "        X, Y = np.meshgrid(np.arange(k + 1), np.arange(k + 1))\n",
    "        heatmap = ax.pcolormesh(X, Y, filtered_record, cmap=cmap, shading='auto', vmin=global_min, vmax=global_max)\n",
    "        ax.invert_yaxis()\n",
    "        ax.set_aspect(\"equal\")\n",
    "        ax.set_xticks(np.arange(k) + 0.5)\n",
    "        ax.set_yticks(np.arange(k) + 0.5)\n",
    "        ax.set_xticklabels(top_expert_indices, fontsize=18)\n",
    "        ax.set_yticklabels(top_expert_indices, fontsize=18)\n",
    "        ax.tick_params(axis='both', which='both', length=0)\n",
    "        for spine in ax.spines.values(): spine.set_visible(False)\n",
    "        scale, step, layer = file.parts[-3:]\n",
    "        scale = scale.replace(\"flame-moe\", \"FLAME-MoE\")\n",
    "        scale = scale.replace(\"1.7b\", \"1.7B-10.3B\")\n",
    "        scale = scale.replace(\"721m\", \"721M-3.8B\")\n",
    "        scale = scale.replace(\"290m\", \"290M-1.3B\")\n",
    "        step, layer = int(step), int(layer.removesuffix(\".pkl\"))\n",
    "        ax.set_title(f\"{scale}, step-{step}, layer-{layer}\", fontsize=18)\n",
    "\n",
    "    plt.tight_layout()\n",
    "    cbar = fig.colorbar(heatmap, ax=axs, pad=0.02, fraction=0.01)\n",
    "    cbar.ax.tick_params(labelsize=18)\n",
    "    save.parent.mkdir(parents=True, exist_ok=True)\n",
    "    plt.savefig(save, bbox_inches='tight', pad_inches=0.1)\n",
    "    plt.close()\n"
   ]
  },
  {
   "cell_type": "code",
   "execution_count": 42,
   "id": "b778ccfa",
   "metadata": {},
   "outputs": [
    {
     "name": "stdout",
     "output_type": "stream",
     "text": [
      "across scales, last checkpoint, at the first layer\n",
      "across scales, last checkpoint, at the final layer\n"
     ]
    }
   ],
   "source": [
    "print(\"across scales, last checkpoint, at the first layer\")\n",
    "glob = [*base.glob(\"*290m/5473/2.pkl\"), *base.glob(\"*721m/8815/2.pkl\"), *base.glob(\"*1.7b/11029/2.pkl\")]\n",
    "plot(glob, 1, 3, 16, Path(\"figures/cross-scale-expert-coactivation/last-checkpoint-first-layer.pdf\"))\n",
    "\n",
    "print(\"across scales, last checkpoint, at the final layer\")\n",
    "glob = [*base.glob(\"*290m/5473/9.pkl\"), *base.glob(\"*721m/8815/12.pkl\"), *base.glob(\"*1.7b/11029/18.pkl\")]\n",
    "plot(glob, 1, 3, 16, Path(\"figures/cross-scale-expert-coactivation/last-checkpoint-final-layer.pdf\"))\n"
   ]
  }
 ],
 "metadata": {
  "kernelspec": {
   "display_name": "MoE",
   "language": "python",
   "name": "python3"
  },
  "language_info": {
   "codemirror_mode": {
    "name": "ipython",
    "version": 3
   },
   "file_extension": ".py",
   "mimetype": "text/x-python",
   "name": "python",
   "nbconvert_exporter": "python",
   "pygments_lexer": "ipython3",
   "version": "3.10.16"
  }
 },
 "nbformat": 4,
 "nbformat_minor": 5
}
