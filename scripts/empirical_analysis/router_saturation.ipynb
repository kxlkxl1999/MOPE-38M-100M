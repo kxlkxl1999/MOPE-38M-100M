{
 "cells": [
  {
   "cell_type": "code",
   "execution_count": 1,
   "id": "7ffa10d4",
   "metadata": {},
   "outputs": [],
   "source": [
    "import os\n",
    "os.chdir(\"/home/haok/MoE-Research\")\n",
    "\n",
    "import pickle\n",
    "from pathlib import Path\n",
    "from typing import List, Tuple\n",
    "import numpy as np\n",
    "import seaborn as sns\n",
    "import matplotlib.pyplot as plt\n",
    "from matplotlib.ticker import FuncFormatter\n",
    "\n",
    "base = Path(\"results/router-saturation\")\n",
    "assert base.is_dir()\n"
   ]
  },
  {
   "cell_type": "code",
   "execution_count": 2,
   "id": "8caa09e8",
   "metadata": {},
   "outputs": [],
   "source": [
    "def human_format(x, pos):\n",
    "    return f\"{x * 100:.0f}%\"\n",
    "\n",
    "def plot(glob: List[List[Path]], nrows: int, ncols: int, save: Path):\n",
    "    sns.set_theme(style=\"whitegrid\")\n",
    "    fig, axs = plt.subplots(nrows, ncols, figsize=(16, 5), sharey=True)\n",
    "    axs = axs.flatten()\n",
    "\n",
    "    packs: List[Tuple[Path, List[float]]] = []\n",
    "    steps = np.arange(0.1, 1.01, 0.1)\n",
    "    steps = np.delete(steps, 2)\n",
    "    for files in glob:\n",
    "        items = []\n",
    "        files = sorted(files, key=lambda x: int(x.parts[-2]))\n",
    "        for file in files:\n",
    "            with file.open(\"rb\") as f:\n",
    "                record = np.array(pickle.load(f))\n",
    "                record = np.delete(record, -2) if len(record) > 10 else record\n",
    "                record = np.delete(record, 2)\n",
    "                items.append((file, record))\n",
    "        packs.append(items)\n",
    "\n",
    "    for ax, items in zip(axs, packs):\n",
    "        for file, record in items:\n",
    "            ax.plot(steps, record, marker='o', label=f\"L{file.parts[-2]}\")\n",
    "\n",
    "        scale, topk = file.parts[2], file.parts[4]\n",
    "        scale = scale.replace(\"flame-moe\", \"FLAME-MoE\")\n",
    "        scale = scale.replace(\"1.7b\", \"1.7B-10.3B\")\n",
    "        scale = scale.replace(\"721m\", \"721M-3.8B\")\n",
    "        scale = scale.replace(\"290m\", \"290M-1.3B\")\n",
    "        topk = topk.removesuffix(\".pkl\")\n",
    "        ax.set_title(f\"{scale}, top-{topk}\", fontsize=12)\n",
    "        ax.set_xlabel(\"Training Stage\", fontsize=12)\n",
    "        if ax == axs[0]: \n",
    "            ax.set_ylabel(\"Router Saturation\", fontsize=12)\n",
    "\n",
    "        ax.tick_params(axis='both', labelsize=12)\n",
    "        ax.xaxis.set_major_formatter(FuncFormatter(human_format))\n",
    "        ax.yaxis.set_major_formatter(FuncFormatter(human_format))\n",
    "        ax.grid(False)\n",
    "\n",
    "        if ax == axs[-1]:\n",
    "            ax.legend(loc='lower right', fontsize=10, frameon=False, ncol=3)\n",
    "\n",
    "    plt.tight_layout()\n",
    "    save.parent.mkdir(parents=True, exist_ok=True)\n",
    "    plt.savefig(save, bbox_inches='tight', pad_inches=0.1)\n",
    "    plt.close()\n"
   ]
  },
  {
   "cell_type": "code",
   "execution_count": 3,
   "id": "c6328dcd",
   "metadata": {},
   "outputs": [
    {
     "name": "stdout",
     "output_type": "stream",
     "text": [
      "router saturation, across scales, under top-1\n",
      "router saturation, across scales, under top-6\n"
     ]
    }
   ],
   "source": [
    "print(\"router saturation, across scales, under top-1\")\n",
    "glob = list(map(list, [base.glob(\"*290m/*/1.pkl\"), base.glob(\"*721m/*/1.pkl\"), base.glob(\"*1.7b/*/1.pkl\")]))\n",
    "plot(glob, 1, 3, Path(\"figures/cross-scale-router-saturation/top-1.pdf\"))\n",
    "\n",
    "print(\"router saturation, across scales, under top-6\")\n",
    "glob = list(map(list, [base.glob(\"*290m/*/6.pkl\"), base.glob(\"*721m/*/6.pkl\"), base.glob(\"*1.7b/*/6.pkl\")]))\n",
    "plot(glob, 1, 3, Path(\"figures/cross-scale-router-saturation/top-6.pdf\"))\n"
   ]
  }
 ],
 "metadata": {
  "kernelspec": {
   "display_name": "MoE",
   "language": "python",
   "name": "python3"
  },
  "language_info": {
   "codemirror_mode": {
    "name": "ipython",
    "version": 3
   },
   "file_extension": ".py",
   "mimetype": "text/x-python",
   "name": "python",
   "nbconvert_exporter": "python",
   "pygments_lexer": "ipython3",
   "version": "3.10.16"
  }
 },
 "nbformat": 4,
 "nbformat_minor": 5
}
